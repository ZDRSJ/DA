{
 "cells": [
  {
   "cell_type": "code",
   "execution_count": null,
   "metadata": {},
   "outputs": [],
   "source": [
    "# 실거래가 데이터 + 크롤링 데이터\n",
    "merge_outer = pd.merge(df1, df2, how='outer',on='id')\n",
    "# outer join\n",
    "# id = 지번주소"
   ]
  },
  {
   "cell_type": "code",
   "execution_count": null,
   "metadata": {},
   "outputs": [],
   "source": [
    "# 실거래가 데이터 + 크롤링 데이터 + 경제지표 데이터\n",
    "merge_outer = pd.merge(df1, df2, how='outer',on='id')\n",
    "# outer join\n",
    "# id = year"
   ]
  }
 ],
 "metadata": {
  "language_info": {
   "name": "python"
  },
  "orig_nbformat": 4
 },
 "nbformat": 4,
 "nbformat_minor": 2
}
